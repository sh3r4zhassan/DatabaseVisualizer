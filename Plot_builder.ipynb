{
 "cells": [
  {
   "cell_type": "code",
   "execution_count": 6,
   "metadata": {},
   "outputs": [],
   "source": [
    "import mysql.connector\n",
    "import pandas as pd\n",
    "import plotly.express as px\n",
    "import streamlit as st\n"
   ]
  },
  {
   "cell_type": "code",
   "execution_count": 2,
   "metadata": {},
   "outputs": [
    {
     "name": "stdout",
     "output_type": "stream",
     "text": [
      "[('customers',), ('employees',), ('offices',), ('orderdetails',), ('orders',), ('payments',), ('productlines',), ('products',)]\n"
     ]
    },
    {
     "name": "stderr",
     "output_type": "stream",
     "text": [
      "C:\\Users\\Shera\\AppData\\Local\\Temp\\ipykernel_31884\\2809994654.py:22: UserWarning: pandas only supports SQLAlchemy connectable (engine/connection) or database string URI or sqlite3 DBAPI2 connection. Other DBAPI2 objects are not tested. Please consider using SQLAlchemy.\n",
      "  df = pd.read_sql(query, conn)\n"
     ]
    }
   ],
   "source": [
    "# Database Configuration\n",
    "db_name='classicmodels'\n",
    "\n",
    "DB_CONFIG = {\n",
    "    \"host\": \"localhost\",\n",
    "    \"user\": \"root\",\n",
    "    \"password\": \"admin\",\n",
    "    \"database\": db_name,\n",
    "}\n",
    "# Fetch Data\n",
    "conn = mysql.connector.connect(**DB_CONFIG)\n",
    "\n",
    "query = \"SHOW TABLES;\"\n",
    "cursor = conn.cursor()\n",
    "cursor.execute(query)\n",
    "tables = cursor.fetchall()\n",
    "print(tables)\n",
    "\n",
    "\n",
    "query = \"SELECT * FROM products;\"\n",
    "\n",
    "df = pd.read_sql(query, conn)\n",
    "\n",
    "conn.close()\n"
   ]
  },
  {
   "cell_type": "code",
   "execution_count": 3,
   "metadata": {},
   "outputs": [
    {
     "data": {
      "text/html": [
       "<div>\n",
       "<style scoped>\n",
       "    .dataframe tbody tr th:only-of-type {\n",
       "        vertical-align: middle;\n",
       "    }\n",
       "\n",
       "    .dataframe tbody tr th {\n",
       "        vertical-align: top;\n",
       "    }\n",
       "\n",
       "    .dataframe thead th {\n",
       "        text-align: right;\n",
       "    }\n",
       "</style>\n",
       "<table border=\"1\" class=\"dataframe\">\n",
       "  <thead>\n",
       "    <tr style=\"text-align: right;\">\n",
       "      <th></th>\n",
       "      <th>productCode</th>\n",
       "      <th>productName</th>\n",
       "      <th>productLine</th>\n",
       "      <th>productScale</th>\n",
       "      <th>productVendor</th>\n",
       "      <th>productDescription</th>\n",
       "      <th>quantityInStock</th>\n",
       "      <th>buyPrice</th>\n",
       "      <th>MSRP</th>\n",
       "    </tr>\n",
       "  </thead>\n",
       "  <tbody>\n",
       "    <tr>\n",
       "      <th>0</th>\n",
       "      <td>S10_1678</td>\n",
       "      <td>1969 Harley Davidson Ultimate Chopper</td>\n",
       "      <td>Motorcycles</td>\n",
       "      <td>1:10</td>\n",
       "      <td>Min Lin Diecast</td>\n",
       "      <td>This replica features working kickstand, front...</td>\n",
       "      <td>7933</td>\n",
       "      <td>48.81</td>\n",
       "      <td>95.70</td>\n",
       "    </tr>\n",
       "    <tr>\n",
       "      <th>1</th>\n",
       "      <td>S10_1949</td>\n",
       "      <td>1952 Alpine Renault 1300</td>\n",
       "      <td>Classic Cars</td>\n",
       "      <td>1:10</td>\n",
       "      <td>Classic Metal Creations</td>\n",
       "      <td>Turnable front wheels; steering function; deta...</td>\n",
       "      <td>7305</td>\n",
       "      <td>98.58</td>\n",
       "      <td>214.30</td>\n",
       "    </tr>\n",
       "    <tr>\n",
       "      <th>2</th>\n",
       "      <td>S10_2016</td>\n",
       "      <td>1996 Moto Guzzi 1100i</td>\n",
       "      <td>Motorcycles</td>\n",
       "      <td>1:10</td>\n",
       "      <td>Highway 66 Mini Classics</td>\n",
       "      <td>Official Moto Guzzi logos and insignias, saddl...</td>\n",
       "      <td>6625</td>\n",
       "      <td>68.99</td>\n",
       "      <td>118.94</td>\n",
       "    </tr>\n",
       "    <tr>\n",
       "      <th>3</th>\n",
       "      <td>S10_4698</td>\n",
       "      <td>2003 Harley-Davidson Eagle Drag Bike</td>\n",
       "      <td>Motorcycles</td>\n",
       "      <td>1:10</td>\n",
       "      <td>Red Start Diecast</td>\n",
       "      <td>Model features, official Harley Davidson logos...</td>\n",
       "      <td>5582</td>\n",
       "      <td>91.02</td>\n",
       "      <td>193.66</td>\n",
       "    </tr>\n",
       "    <tr>\n",
       "      <th>4</th>\n",
       "      <td>S10_4757</td>\n",
       "      <td>1972 Alfa Romeo GTA</td>\n",
       "      <td>Classic Cars</td>\n",
       "      <td>1:10</td>\n",
       "      <td>Motor City Art Classics</td>\n",
       "      <td>Features include: Turnable front wheels; steer...</td>\n",
       "      <td>3252</td>\n",
       "      <td>85.68</td>\n",
       "      <td>136.00</td>\n",
       "    </tr>\n",
       "    <tr>\n",
       "      <th>...</th>\n",
       "      <td>...</td>\n",
       "      <td>...</td>\n",
       "      <td>...</td>\n",
       "      <td>...</td>\n",
       "      <td>...</td>\n",
       "      <td>...</td>\n",
       "      <td>...</td>\n",
       "      <td>...</td>\n",
       "      <td>...</td>\n",
       "    </tr>\n",
       "    <tr>\n",
       "      <th>105</th>\n",
       "      <td>S700_3505</td>\n",
       "      <td>The Titanic</td>\n",
       "      <td>Ships</td>\n",
       "      <td>1:700</td>\n",
       "      <td>Carousel DieCast Legends</td>\n",
       "      <td>Completed model measures 19 1/2 inches long, 9...</td>\n",
       "      <td>1956</td>\n",
       "      <td>51.09</td>\n",
       "      <td>100.17</td>\n",
       "    </tr>\n",
       "    <tr>\n",
       "      <th>106</th>\n",
       "      <td>S700_3962</td>\n",
       "      <td>The Queen Mary</td>\n",
       "      <td>Ships</td>\n",
       "      <td>1:700</td>\n",
       "      <td>Welly Diecast Productions</td>\n",
       "      <td>Exact replica. Wood and Metal. Many extras inc...</td>\n",
       "      <td>5088</td>\n",
       "      <td>53.63</td>\n",
       "      <td>99.31</td>\n",
       "    </tr>\n",
       "    <tr>\n",
       "      <th>107</th>\n",
       "      <td>S700_4002</td>\n",
       "      <td>American Airlines: MD-11S</td>\n",
       "      <td>Planes</td>\n",
       "      <td>1:700</td>\n",
       "      <td>Second Gear Diecast</td>\n",
       "      <td>Polished finish. Exact replia with official lo...</td>\n",
       "      <td>8820</td>\n",
       "      <td>36.27</td>\n",
       "      <td>74.03</td>\n",
       "    </tr>\n",
       "    <tr>\n",
       "      <th>108</th>\n",
       "      <td>S72_1253</td>\n",
       "      <td>Boeing X-32A JSF</td>\n",
       "      <td>Planes</td>\n",
       "      <td>1:72</td>\n",
       "      <td>Motor City Art Classics</td>\n",
       "      <td>10\" Wingspan with retractable landing gears.Co...</td>\n",
       "      <td>4857</td>\n",
       "      <td>32.77</td>\n",
       "      <td>49.66</td>\n",
       "    </tr>\n",
       "    <tr>\n",
       "      <th>109</th>\n",
       "      <td>S72_3212</td>\n",
       "      <td>Pont Yacht</td>\n",
       "      <td>Ships</td>\n",
       "      <td>1:72</td>\n",
       "      <td>Unimax Art Galleries</td>\n",
       "      <td>Measures 38 inches Long x 33 3/4 inches High. ...</td>\n",
       "      <td>414</td>\n",
       "      <td>33.30</td>\n",
       "      <td>54.60</td>\n",
       "    </tr>\n",
       "  </tbody>\n",
       "</table>\n",
       "<p>110 rows × 9 columns</p>\n",
       "</div>"
      ],
      "text/plain": [
       "    productCode                            productName   productLine  \\\n",
       "0      S10_1678  1969 Harley Davidson Ultimate Chopper   Motorcycles   \n",
       "1      S10_1949               1952 Alpine Renault 1300  Classic Cars   \n",
       "2      S10_2016                  1996 Moto Guzzi 1100i   Motorcycles   \n",
       "3      S10_4698   2003 Harley-Davidson Eagle Drag Bike   Motorcycles   \n",
       "4      S10_4757                    1972 Alfa Romeo GTA  Classic Cars   \n",
       "..          ...                                    ...           ...   \n",
       "105   S700_3505                            The Titanic         Ships   \n",
       "106   S700_3962                         The Queen Mary         Ships   \n",
       "107   S700_4002              American Airlines: MD-11S        Planes   \n",
       "108    S72_1253                       Boeing X-32A JSF        Planes   \n",
       "109    S72_3212                             Pont Yacht         Ships   \n",
       "\n",
       "    productScale              productVendor  \\\n",
       "0           1:10            Min Lin Diecast   \n",
       "1           1:10    Classic Metal Creations   \n",
       "2           1:10   Highway 66 Mini Classics   \n",
       "3           1:10          Red Start Diecast   \n",
       "4           1:10    Motor City Art Classics   \n",
       "..           ...                        ...   \n",
       "105        1:700   Carousel DieCast Legends   \n",
       "106        1:700  Welly Diecast Productions   \n",
       "107        1:700        Second Gear Diecast   \n",
       "108         1:72    Motor City Art Classics   \n",
       "109         1:72       Unimax Art Galleries   \n",
       "\n",
       "                                    productDescription  quantityInStock  \\\n",
       "0    This replica features working kickstand, front...             7933   \n",
       "1    Turnable front wheels; steering function; deta...             7305   \n",
       "2    Official Moto Guzzi logos and insignias, saddl...             6625   \n",
       "3    Model features, official Harley Davidson logos...             5582   \n",
       "4    Features include: Turnable front wheels; steer...             3252   \n",
       "..                                                 ...              ...   \n",
       "105  Completed model measures 19 1/2 inches long, 9...             1956   \n",
       "106  Exact replica. Wood and Metal. Many extras inc...             5088   \n",
       "107  Polished finish. Exact replia with official lo...             8820   \n",
       "108  10\" Wingspan with retractable landing gears.Co...             4857   \n",
       "109  Measures 38 inches Long x 33 3/4 inches High. ...              414   \n",
       "\n",
       "     buyPrice    MSRP  \n",
       "0       48.81   95.70  \n",
       "1       98.58  214.30  \n",
       "2       68.99  118.94  \n",
       "3       91.02  193.66  \n",
       "4       85.68  136.00  \n",
       "..        ...     ...  \n",
       "105     51.09  100.17  \n",
       "106     53.63   99.31  \n",
       "107     36.27   74.03  \n",
       "108     32.77   49.66  \n",
       "109     33.30   54.60  \n",
       "\n",
       "[110 rows x 9 columns]"
      ]
     },
     "execution_count": 3,
     "metadata": {},
     "output_type": "execute_result"
    }
   ],
   "source": [
    "df"
   ]
  },
  {
   "cell_type": "code",
   "execution_count": 4,
   "metadata": {},
   "outputs": [],
   "source": [
    "def plot_graph(data, x, title, type_of_graph, y=None):\n",
    "    plot_color = [\"#ea5545\", \"#f46a9b\", \"#ef9b20\", \"#edbf33\", \"#ede15b\", \"#bdcf32\", \"#87bc45\", \"#27aeef\", \"#b33dc6\"]\n",
    "\n",
    "\n",
    "    graph_types = {\n",
    "        'bar': px.bar,\n",
    "        'scatter': px.scatter,\n",
    "        'line': px.line,\n",
    "        'box': px.box,\n",
    "        'histogram': px.histogram,\n",
    "        'violin': px.violin,\n",
    "        'density_contour': px.density_contour,\n",
    "        'density_heatmap': px.density_heatmap,\n",
    "        'pie': px.pie\n",
    "    }\n",
    "\n",
    "    if type_of_graph not in graph_types:\n",
    "        raise ValueError(f\"Unsupported graph type. Choose from: {', '.join(graph_types.keys())}\")\n",
    "    \n",
    "\n",
    "    if type_of_graph == 'violin':\n",
    "        fig = graph_types[type_of_graph](data, x=x, y=y, title=title, color=x, color_discrete_sequence=plot_color)\n",
    "\n",
    "    elif type_of_graph == 'pie':\n",
    "        if y is None:\n",
    "            data = data[x].value_counts().reset_index()\n",
    "            data.columns = [x, 'count']\n",
    "            fig = graph_types[type_of_graph](data, names=x, values='count', title=title, color_discrete_sequence=plot_color)\n",
    "        else:\n",
    "            fig = graph_types[type_of_graph](data, names=x, values=y, title=title, color_discrete_sequence=plot_color)\n",
    "            \n",
    "    elif type_of_graph == 'density_heatmap':\n",
    "        if y is None:\n",
    "            raise ValueError(f\"'y' value must be provided for {type_of_graph} plots.\")\n",
    "        fig = graph_types[type_of_graph](data, x=x, y=y, title=title,color_continuous_scale='viridis')\n",
    "    else:\n",
    "        if y is None:\n",
    "            raise ValueError(f\"'y' value must be provided for {type_of_graph} plots.\")\n",
    "        fig = graph_types[type_of_graph](data, x=x, y=y, title=title, color_discrete_sequence=plot_color, color=x)\n",
    "\n",
    "    fig.update_layout(\n",
    "        title={'text': title, 'x': 0.05, 'xanchor': 'left'},\n",
    "        plot_bgcolor='black',\n",
    "        paper_bgcolor='black', \n",
    "        font=dict(color='white') \n",
    "    )\n",
    "    \n",
    "    if type_of_graph in ['scatter', 'line', 'barplot', 'box', 'histogram', 'violin', 'density_contour', 'density_heatmap']:\n",
    "        fig.update_xaxes(showline=False, linewidth=2, linecolor='black')\n",
    "        fig.update_yaxes(showline=False, linewidth=2, linecolor='black')\n",
    "    else:\n",
    "        fig.update_layout(showlegend=True)\n",
    "    \n",
    "    st.plotly_chart(fig, use_container_width=True)\n",
    "\n",
    "    return fig\n"
   ]
  },
  {
   "cell_type": "code",
   "execution_count": 5,
   "metadata": {},
   "outputs": [
    {
     "name": "stderr",
     "output_type": "stream",
     "text": [
      "2025-02-22 16:30:10.431 WARNING streamlit.runtime.scriptrunner_utils.script_run_context: Thread 'MainThread': missing ScriptRunContext! This warning can be ignored when running in bare mode.\n",
      "2025-02-22 16:30:10.432 WARNING streamlit.runtime.scriptrunner_utils.script_run_context: Thread 'MainThread': missing ScriptRunContext! This warning can be ignored when running in bare mode.\n",
      "2025-02-22 16:30:10.433 WARNING streamlit.runtime.scriptrunner_utils.script_run_context: Thread 'MainThread': missing ScriptRunContext! This warning can be ignored when running in bare mode.\n",
      "2025-02-22 16:30:10.796 \n",
      "  \u001b[33m\u001b[1mWarning:\u001b[0m to view this Streamlit app on a browser, run it with the following\n",
      "  command:\n",
      "\n",
      "    streamlit run c:\\Users\\Shera\\anaconda3\\envs\\myenv\\lib\\site-packages\\ipykernel_launcher.py [ARGUMENTS]\n",
      "2025-02-22 16:30:10.797 Thread 'MainThread': missing ScriptRunContext! This warning can be ignored when running in bare mode.\n"
     ]
    },
    {
     "data": {
      "application/vnd.plotly.v1+json": {
       "config": {
        "plotlyServerURL": "https://plot.ly"
       },
       "data": [
        {
         "alignmentgroup": "True",
         "box": {
          "visible": false
         },
         "hovertemplate": "productLine=%{x}<br>quantityInStock=%{y}<extra></extra>",
         "legendgroup": "Motorcycles",
         "marker": {
          "color": "#ea5545"
         },
         "name": "Motorcycles",
         "offsetgroup": "Motorcycles",
         "orientation": "v",
         "scalegroup": "True",
         "showlegend": true,
         "type": "violin",
         "x": [
          "Motorcycles",
          "Motorcycles",
          "Motorcycles",
          "Motorcycles",
          "Motorcycles",
          "Motorcycles",
          "Motorcycles",
          "Motorcycles",
          "Motorcycles",
          "Motorcycles",
          "Motorcycles",
          "Motorcycles",
          "Motorcycles"
         ],
         "x0": " ",
         "xaxis": "x",
         "y": {
          "bdata": "/R7hGc4VDScFEQkeWxsPALgasgAZJA0NWAI=",
          "dtype": "i2"
         },
         "y0": " ",
         "yaxis": "y"
        },
        {
         "alignmentgroup": "True",
         "box": {
          "visible": false
         },
         "hovertemplate": "productLine=%{x}<br>quantityInStock=%{y}<extra></extra>",
         "legendgroup": "Classic Cars",
         "marker": {
          "color": "#f46a9b"
         },
         "name": "Classic Cars",
         "offsetgroup": "Classic Cars",
         "orientation": "v",
         "scalegroup": "True",
         "showlegend": true,
         "type": "violin",
         "x": [
          "Classic Cars",
          "Classic Cars",
          "Classic Cars",
          "Classic Cars",
          "Classic Cars",
          "Classic Cars",
          "Classic Cars",
          "Classic Cars",
          "Classic Cars",
          "Classic Cars",
          "Classic Cars",
          "Classic Cars",
          "Classic Cars",
          "Classic Cars",
          "Classic Cars",
          "Classic Cars",
          "Classic Cars",
          "Classic Cars",
          "Classic Cars",
          "Classic Cars",
          "Classic Cars",
          "Classic Cars",
          "Classic Cars",
          "Classic Cars",
          "Classic Cars",
          "Classic Cars",
          "Classic Cars",
          "Classic Cars",
          "Classic Cars",
          "Classic Cars",
          "Classic Cars",
          "Classic Cars",
          "Classic Cars",
          "Classic Cars",
          "Classic Cars",
          "Classic Cars",
          "Classic Cars",
          "Classic Cars"
         ],
         "x0": " ",
         "xaxis": "x",
         "y": {
          "bdata": "iRy0DIcaRAAjDvoaoyMZBB8WmxyHD1IjeiIsJnQS5B+bIDUefQenIx4jqRXhBIkM7QPqDwUgLgnuCawFKx5XEjsf5iTIGbYZvR4WGw==",
          "dtype": "i2"
         },
         "y0": " ",
         "yaxis": "y"
        },
        {
         "alignmentgroup": "True",
         "box": {
          "visible": false
         },
         "hovertemplate": "productLine=%{x}<br>quantityInStock=%{y}<extra></extra>",
         "legendgroup": "Trucks and Buses",
         "marker": {
          "color": "#ef9b20"
         },
         "name": "Trucks and Buses",
         "offsetgroup": "Trucks and Buses",
         "orientation": "v",
         "scalegroup": "True",
         "showlegend": true,
         "type": "violin",
         "x": [
          "Trucks and Buses",
          "Trucks and Buses",
          "Trucks and Buses",
          "Trucks and Buses",
          "Trucks and Buses",
          "Trucks and Buses",
          "Trucks and Buses",
          "Trucks and Buses",
          "Trucks and Buses",
          "Trucks and Buses",
          "Trucks and Buses"
         ],
         "x0": " ",
         "xaxis": "x",
         "y": {
          "bdata": "KwbtFzUKQiDiBzgMFwnrEzoLLgP4Aw==",
          "dtype": "i2"
         },
         "y0": " ",
         "yaxis": "y"
        },
        {
         "alignmentgroup": "True",
         "box": {
          "visible": false
         },
         "hovertemplate": "productLine=%{x}<br>quantityInStock=%{y}<extra></extra>",
         "legendgroup": "Vintage Cars",
         "marker": {
          "color": "#edbf33"
         },
         "name": "Vintage Cars",
         "offsetgroup": "Vintage Cars",
         "orientation": "v",
         "scalegroup": "True",
         "showlegend": true,
         "type": "violin",
         "x": [
          "Vintage Cars",
          "Vintage Cars",
          "Vintage Cars",
          "Vintage Cars",
          "Vintage Cars",
          "Vintage Cars",
          "Vintage Cars",
          "Vintage Cars",
          "Vintage Cars",
          "Vintage Cars",
          "Vintage Cars",
          "Vintage Cars",
          "Vintage Cars",
          "Vintage Cars",
          "Vintage Cars",
          "Vintage Cars",
          "Vintage Cars",
          "Vintage Cars",
          "Vintage Cars",
          "Vintage Cars",
          "Vintage Cars",
          "Vintage Cars",
          "Vintage Cars",
          "Vintage Cars"
         ],
         "x0": " ",
         "xaxis": "x",
         "y": {
          "bdata": "9SG7IaQKHAKKJCQCXRARFmgXSQ/pHkoJmRliIPUZpBwfC9UjVgvdGSEIZhKIAJYb",
          "dtype": "i2"
         },
         "y0": " ",
         "yaxis": "y"
        },
        {
         "alignmentgroup": "True",
         "box": {
          "visible": false
         },
         "hovertemplate": "productLine=%{x}<br>quantityInStock=%{y}<extra></extra>",
         "legendgroup": "Planes",
         "marker": {
          "color": "#ede15b"
         },
         "name": "Planes",
         "offsetgroup": "Planes",
         "orientation": "v",
         "scalegroup": "True",
         "showlegend": true,
         "type": "violin",
         "x": [
          "Planes",
          "Planes",
          "Planes",
          "Planes",
          "Planes",
          "Planes",
          "Planes",
          "Planes",
          "Planes",
          "Planes",
          "Planes",
          "Planes"
         ],
         "x0": " ",
         "xaxis": "x",
         "y": {
          "bdata": "0hTgAysONhecGsQK0Ra1JcIbJwJ0IvkS",
          "dtype": "i2"
         },
         "y0": " ",
         "yaxis": "y"
        },
        {
         "alignmentgroup": "True",
         "box": {
          "visible": false
         },
         "hovertemplate": "productLine=%{x}<br>quantityInStock=%{y}<extra></extra>",
         "legendgroup": "Ships",
         "marker": {
          "color": "#bdcf32"
         },
         "name": "Ships",
         "offsetgroup": "Ships",
         "orientation": "v",
         "scalegroup": "True",
         "showlegend": true,
         "type": "violin",
         "x": [
          "Ships",
          "Ships",
          "Ships",
          "Ships",
          "Ships",
          "Ships",
          "Ships",
          "Ships",
          "Ships"
         ],
         "x0": " ",
         "xaxis": "x",
         "y": {
          "bdata": "oxBqB2kH4QKtDasbpAfgE54B",
          "dtype": "i2"
         },
         "y0": " ",
         "yaxis": "y"
        },
        {
         "alignmentgroup": "True",
         "box": {
          "visible": false
         },
         "hovertemplate": "productLine=%{x}<br>quantityInStock=%{y}<extra></extra>",
         "legendgroup": "Trains",
         "marker": {
          "color": "#87bc45"
         },
         "name": "Trains",
         "offsetgroup": "Trains",
         "orientation": "v",
         "scalegroup": "True",
         "showlegend": true,
         "type": "violin",
         "x": [
          "Trains",
          "Trains",
          "Trains"
         ],
         "x0": " ",
         "xaxis": "x",
         "y": {
          "bdata": "MhmZIW0G",
          "dtype": "i2"
         },
         "y0": " ",
         "yaxis": "y"
        }
       ],
       "layout": {
        "font": {
         "color": "white"
        },
        "legend": {
         "title": {
          "text": "productLine"
         },
         "tracegroupgap": 0
        },
        "paper_bgcolor": "black",
        "plot_bgcolor": "black",
        "template": {
         "data": {
          "candlestick": [
           {
            "decreasing": {
             "line": {
              "color": "#000033"
             }
            },
            "increasing": {
             "line": {
              "color": "#000032"
             }
            },
            "type": "candlestick"
           }
          ],
          "contour": [
           {
            "colorscale": [
             [
              0,
              "#000011"
             ],
             [
              0.1111111111111111,
              "#000012"
             ],
             [
              0.2222222222222222,
              "#000013"
             ],
             [
              0.3333333333333333,
              "#000014"
             ],
             [
              0.4444444444444444,
              "#000015"
             ],
             [
              0.5555555555555556,
              "#000016"
             ],
             [
              0.6666666666666666,
              "#000017"
             ],
             [
              0.7777777777777778,
              "#000018"
             ],
             [
              0.8888888888888888,
              "#000019"
             ],
             [
              1,
              "#000020"
             ]
            ],
            "type": "contour"
           }
          ],
          "contourcarpet": [
           {
            "colorscale": [
             [
              0,
              "#000011"
             ],
             [
              0.1111111111111111,
              "#000012"
             ],
             [
              0.2222222222222222,
              "#000013"
             ],
             [
              0.3333333333333333,
              "#000014"
             ],
             [
              0.4444444444444444,
              "#000015"
             ],
             [
              0.5555555555555556,
              "#000016"
             ],
             [
              0.6666666666666666,
              "#000017"
             ],
             [
              0.7777777777777778,
              "#000018"
             ],
             [
              0.8888888888888888,
              "#000019"
             ],
             [
              1,
              "#000020"
             ]
            ],
            "type": "contourcarpet"
           }
          ],
          "heatmap": [
           {
            "colorscale": [
             [
              0,
              "#000011"
             ],
             [
              0.1111111111111111,
              "#000012"
             ],
             [
              0.2222222222222222,
              "#000013"
             ],
             [
              0.3333333333333333,
              "#000014"
             ],
             [
              0.4444444444444444,
              "#000015"
             ],
             [
              0.5555555555555556,
              "#000016"
             ],
             [
              0.6666666666666666,
              "#000017"
             ],
             [
              0.7777777777777778,
              "#000018"
             ],
             [
              0.8888888888888888,
              "#000019"
             ],
             [
              1,
              "#000020"
             ]
            ],
            "type": "heatmap"
           }
          ],
          "histogram2d": [
           {
            "colorscale": [
             [
              0,
              "#000011"
             ],
             [
              0.1111111111111111,
              "#000012"
             ],
             [
              0.2222222222222222,
              "#000013"
             ],
             [
              0.3333333333333333,
              "#000014"
             ],
             [
              0.4444444444444444,
              "#000015"
             ],
             [
              0.5555555555555556,
              "#000016"
             ],
             [
              0.6666666666666666,
              "#000017"
             ],
             [
              0.7777777777777778,
              "#000018"
             ],
             [
              0.8888888888888888,
              "#000019"
             ],
             [
              1,
              "#000020"
             ]
            ],
            "type": "histogram2d"
           }
          ],
          "icicle": [
           {
            "textfont": {
             "color": "white"
            },
            "type": "icicle"
           }
          ],
          "sankey": [
           {
            "textfont": {
             "color": "#000036"
            },
            "type": "sankey"
           }
          ],
          "scatter": [
           {
            "marker": {
             "line": {
              "width": 0
             }
            },
            "type": "scatter"
           }
          ],
          "table": [
           {
            "cells": {
             "fill": {
              "color": "#000038"
             },
             "font": {
              "color": "#000037"
             },
             "line": {
              "color": "#000039"
             }
            },
            "header": {
             "fill": {
              "color": "#000040"
             },
             "font": {
              "color": "#000036"
             },
             "line": {
              "color": "#000039"
             }
            },
            "type": "table"
           }
          ],
          "waterfall": [
           {
            "connector": {
             "line": {
              "color": "#000036",
              "width": 2
             }
            },
            "decreasing": {
             "marker": {
              "color": "#000033"
             }
            },
            "increasing": {
             "marker": {
              "color": "#000032"
             }
            },
            "totals": {
             "marker": {
              "color": "#000034"
             }
            },
            "type": "waterfall"
           }
          ]
         },
         "layout": {
          "coloraxis": {
           "colorscale": [
            [
             0,
             "#000011"
            ],
            [
             0.1111111111111111,
             "#000012"
            ],
            [
             0.2222222222222222,
             "#000013"
            ],
            [
             0.3333333333333333,
             "#000014"
            ],
            [
             0.4444444444444444,
             "#000015"
            ],
            [
             0.5555555555555556,
             "#000016"
            ],
            [
             0.6666666666666666,
             "#000017"
            ],
            [
             0.7777777777777778,
             "#000018"
            ],
            [
             0.8888888888888888,
             "#000019"
            ],
            [
             1,
             "#000020"
            ]
           ]
          },
          "colorscale": {
           "diverging": [
            [
             0,
             "#000021"
            ],
            [
             0.1,
             "#000022"
            ],
            [
             0.2,
             "#000023"
            ],
            [
             0.3,
             "#000024"
            ],
            [
             0.4,
             "#000025"
            ],
            [
             0.5,
             "#000026"
            ],
            [
             0.6,
             "#000027"
            ],
            [
             0.7,
             "#000028"
            ],
            [
             0.8,
             "#000029"
            ],
            [
             0.9,
             "#000030"
            ],
            [
             1,
             "#000031"
            ]
           ],
           "sequential": [
            [
             0,
             "#000011"
            ],
            [
             0.1111111111111111,
             "#000012"
            ],
            [
             0.2222222222222222,
             "#000013"
            ],
            [
             0.3333333333333333,
             "#000014"
            ],
            [
             0.4444444444444444,
             "#000015"
            ],
            [
             0.5555555555555556,
             "#000016"
            ],
            [
             0.6666666666666666,
             "#000017"
            ],
            [
             0.7777777777777778,
             "#000018"
            ],
            [
             0.8888888888888888,
             "#000019"
            ],
            [
             1,
             "#000020"
            ]
           ],
           "sequentialminus": [
            [
             0,
             "#000011"
            ],
            [
             0.1111111111111111,
             "#000012"
            ],
            [
             0.2222222222222222,
             "#000013"
            ],
            [
             0.3333333333333333,
             "#000014"
            ],
            [
             0.4444444444444444,
             "#000015"
            ],
            [
             0.5555555555555556,
             "#000016"
            ],
            [
             0.6666666666666666,
             "#000017"
            ],
            [
             0.7777777777777778,
             "#000018"
            ],
            [
             0.8888888888888888,
             "#000019"
            ],
            [
             1,
             "#000020"
            ]
           ]
          },
          "colorway": [
           "#000001",
           "#000002",
           "#000003",
           "#000004",
           "#000005",
           "#000006",
           "#000007",
           "#000008",
           "#000009",
           "#000010"
          ]
         }
        },
        "title": {
         "text": "Sample Graph",
         "x": 0.05,
         "xanchor": "left"
        },
        "violinmode": "overlay",
        "xaxis": {
         "anchor": "y",
         "categoryarray": [
          "Motorcycles",
          "Classic Cars",
          "Trucks and Buses",
          "Vintage Cars",
          "Planes",
          "Ships",
          "Trains"
         ],
         "categoryorder": "array",
         "domain": [
          0,
          1
         ],
         "linecolor": "black",
         "linewidth": 2,
         "showline": false,
         "title": {
          "text": "productLine"
         }
        },
        "yaxis": {
         "anchor": "x",
         "domain": [
          0,
          1
         ],
         "linecolor": "black",
         "linewidth": 2,
         "showline": false,
         "title": {
          "text": "quantityInStock"
         }
        }
       }
      }
     },
     "metadata": {},
     "output_type": "display_data"
    }
   ],
   "source": [
    "fig=plot_graph(df, x='productLine', y='quantityInStock', title='Sample Graph', type_of_graph='violin')\n",
    "fig.show()"
   ]
  }
 ],
 "metadata": {
  "kernelspec": {
   "display_name": "myenv",
   "language": "python",
   "name": "python3"
  },
  "language_info": {
   "codemirror_mode": {
    "name": "ipython",
    "version": 3
   },
   "file_extension": ".py",
   "mimetype": "text/x-python",
   "name": "python",
   "nbconvert_exporter": "python",
   "pygments_lexer": "ipython3",
   "version": "3.9.20"
  }
 },
 "nbformat": 4,
 "nbformat_minor": 2
}
